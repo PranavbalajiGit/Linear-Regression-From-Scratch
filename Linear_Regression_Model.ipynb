{
 "cells": [
  {
   "cell_type": "markdown",
   "id": "cf40c47d",
   "metadata": {},
   "source": [
    "LINEAR REGRESSION MODEL IMPLEMENTATION"
   ]
  },
  {
   "cell_type": "code",
   "execution_count": null,
   "id": "22779caf",
   "metadata": {},
   "outputs": [],
   "source": [
    "import numpy as np"
   ]
  },
  {
   "cell_type": "code",
   "execution_count": null,
   "id": "c987ef00",
   "metadata": {},
   "outputs": [],
   "source": [
    "class Linear_Regression:\n",
    "    def __init__(self,learning_rate,no_of_iterations):\n",
    "        self.learning_rate = learning_rate\n",
    "        self.no_of_iterations = no_of_iterations\n",
    "\n",
    "    def fit(self , X , Y):\n",
    "\n",
    "        self.m , self.n = X.Shapep\n",
    "        \n",
    "        self.w = np.zeroes(self.n)\n",
    "        self.b = 0\n",
    "        self.X = X\n",
    "        self.Y = Y\n",
    "\n",
    "        for i in range(self.no_of_iterations):\n",
    "            self.update_weights()\n",
    "\n",
    "    def update_weights(self):\n",
    "        Y_Prediction = self.predict(self.X)\n",
    "\n",
    "        dw = -(2*(self.X.T).dot(self.Y - Y_Prediction)) / self.m\n",
    "        db = -2 * np.sum(self.Y - Y_Prediction) / self.m\n",
    "\n",
    "        self.w = self.w - self.learning_rate * dw\n",
    "        self.b = self.b - self.learning_rate * db\n",
    "\n",
    "    def predict(self , X):\n",
    "        return X.dot(self.w) + self.b"
   ]
  }
 ],
 "metadata": {
  "language_info": {
   "name": "python"
  }
 },
 "nbformat": 4,
 "nbformat_minor": 5
}
